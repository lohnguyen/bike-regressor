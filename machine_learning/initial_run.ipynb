{
 "cells": [
  {
   "cell_type": "markdown",
   "id": "patent-superintendent",
   "metadata": {
    "id": "5Q_TCCSJ1XZU"
   },
   "source": [
    "## Initial Checks\n",
    "* Rented Bike has positive correlation with: \n",
    "  * Hour\n",
    "  * Temperature\n",
    "  * "
   ]
  },
  {
   "cell_type": "code",
   "execution_count": null,
   "id": "upper-wright",
   "metadata": {},
   "outputs": [],
   "source": [
    "import pandas as pd\n",
    "\n",
    "# Load dataset\n",
    "df = pd.read_csv(\"./datasets/bike_data.csv\", index_col=0)\n",
    "df"
   ]
  },
  {
   "cell_type": "code",
   "execution_count": null,
   "id": "southwest-blade",
   "metadata": {
    "colab": {
     "base_uri": "https://localhost:8080/",
     "height": 1000
    },
    "id": "jRlJtj8GDkOD",
    "outputId": "c3f31dc2-3be9-4347-9c9a-e0bf8ee58623",
    "scrolled": true
   },
   "outputs": [],
   "source": [
    "import seaborn as sn\n",
    "import matplotlib.pyplot as plt\n",
    "\n",
    "#variables for reshaping seaborn heatmap \n",
    "fig_dims = (20, 20)\n",
    "fig, ax = plt.subplots(figsize=fig_dims)\n",
    "\n",
    "corr = df.corr()\n",
    "\n",
    "sn.heatmap(corr, annot=True, ax=ax)\n",
    "plt.show()"
   ]
  },
  {
   "cell_type": "markdown",
   "id": "provincial-typing",
   "metadata": {
    "id": "L4geZxNgEVPI"
   },
   "source": [
    "# Initial Run"
   ]
  },
  {
   "cell_type": "code",
   "execution_count": null,
   "id": "certain-berkeley",
   "metadata": {
    "colab": {
     "base_uri": "https://localhost:8080/"
    },
    "id": "Aga_ktoN-bZE",
    "outputId": "7b8af83d-85a4-4b71-bce3-6cd54f8318cf"
   },
   "outputs": [],
   "source": [
    "# How are the metrics if we just guess the average\n",
    "# Just to determine how a bad model performs\n",
    "# df = orig_df.copy()\n",
    "\n",
    "from sklearn.metrics import mean_squared_error\n",
    "from sklearn.metrics import r2_score\n",
    "\n",
    "avg_bikes = df[\"Count\"].mean()\n",
    "print(\"Average bikes: \", avg_bikes)\n",
    "\n",
    "\n",
    "y_pred = [avg_bikes] * 8760 # Guess the average\n",
    "y_true = df[\"Count\"]\n",
    "mse = mean_squared_error(y_pred, y_true)\n",
    "r2 = r2_score(y_pred, y_true)\n",
    "\n",
    "print(\"Baseline MSE: \", mse)\n",
    "print(\"Baseline r2_score: \", r2)"
   ]
  },
  {
   "cell_type": "code",
   "execution_count": null,
   "id": "molecular-rebound",
   "metadata": {
    "cellView": "code",
    "colab": {
     "base_uri": "https://localhost:8080/"
    },
    "id": "4SeJOSZGAP7_",
    "outputId": "fc3e0bd1-864a-4952-af78-35a71291bc28"
   },
   "outputs": [],
   "source": [
    "# Linear Regression Model basic\n",
    "from sklearn.linear_model import LinearRegression\n",
    "\n",
    "X = df.drop([\"Count\"], axis=1)\n",
    "y = df[\"Count\"]\n",
    "\n",
    "LR = LinearRegression()\n",
    "\n",
    "reg = LR.fit(X,y)\n",
    "r2 = reg.score(X,y) # Pretty low r2 even when trained on entire \n",
    "print(\"R2 score when training on all numeric data (no train/test split): \", r2)"
   ]
  }
 ],
 "metadata": {
  "kernelspec": {
   "display_name": "ML",
   "language": "python",
   "name": "ml"
  },
  "language_info": {
   "codemirror_mode": {
    "name": "ipython",
    "version": 3
   },
   "file_extension": ".py",
   "mimetype": "text/x-python",
   "name": "python",
   "nbconvert_exporter": "python",
   "pygments_lexer": "ipython3",
   "version": "3.7.10"
  }
 },
 "nbformat": 4,
 "nbformat_minor": 5
}
