{
 "cells": [
  {
   "cell_type": "code",
   "execution_count": 12,
   "id": "three-potato",
   "metadata": {},
   "outputs": [],
   "source": [
    "import pandas as pd\n",
    "\n",
    "# Load dataset\n",
    "df = pd.read_csv(\"./datasets/bike_data.csv\", index_col=0)"
   ]
  },
  {
   "cell_type": "code",
   "execution_count": null,
   "id": "micro-glasgow",
   "metadata": {},
   "outputs": [],
   "source": [
    "import seaborn as sn\n",
    "import matplotlib.pyplot as plt\n",
    "def show_heatmap():\n",
    "    #variables for reshaping seaborn heatmap \n",
    "    fig_dims = (20, 20)\n",
    "    fig, ax = plt.subplots(figsize=fig_dims)\n",
    "\n",
    "    corr = df.corr()\n",
    "\n",
    "    sn.heatmap(corr, annot=True, ax=ax)\n",
    "    plt.show()\n",
    "show_heatmap()"
   ]
  },
  {
   "cell_type": "markdown",
   "id": "eastern-basin",
   "metadata": {
    "id": "L4geZxNgEVPI"
   },
   "source": [
    "# Initial Run"
   ]
  },
  {
   "cell_type": "markdown",
   "id": "latest-canon",
   "metadata": {},
   "source": [
    "## Train Test Split"
   ]
  },
  {
   "cell_type": "code",
   "execution_count": 14,
   "id": "colored-bidding",
   "metadata": {},
   "outputs": [],
   "source": [
    "from sklearn.model_selection import train_test_split\n",
    "\n",
    "X = df.drop(\"Count\", axis=1).values\n",
    "y = df[\"Count\"]\n",
    "\n",
    "X_train, X_test, y_train, y_test = train_test_split(X, y, test_size=0.33, random_state=42)"
   ]
  },
  {
   "cell_type": "code",
   "execution_count": 15,
   "id": "million-taste",
   "metadata": {
    "colab": {
     "base_uri": "https://localhost:8080/"
    },
    "id": "Aga_ktoN-bZE",
    "outputId": "7b8af83d-85a4-4b71-bce3-6cd54f8318cf"
   },
   "outputs": [
    {
     "name": "stdout",
     "output_type": "stream",
     "text": [
      "Average bikes:  704.6020547945205\n",
      "Baseline MSE:  415974.24232454493\n",
      "Baseline r2_score:  -8.046112029452398e+30\n"
     ]
    }
   ],
   "source": [
    "# How are the metrics if we just guess the average\n",
    "# Just to determine how a bad model performs\n",
    "# df = orig_df.copy()\n",
    "\n",
    "from sklearn.metrics import mean_squared_error\n",
    "from sklearn.metrics import r2_score\n",
    "\n",
    "avg_bikes = df[\"Count\"].mean()\n",
    "print(\"Average bikes: \", avg_bikes)\n",
    "\n",
    "\n",
    "y_pred = [avg_bikes] * 8760 # Guess the average\n",
    "y_true = df[\"Count\"]\n",
    "mse = mean_squared_error(y_pred, y_true)\n",
    "r2 = r2_score(y_pred, y_true)\n",
    "\n",
    "print(\"Baseline MSE: \", mse)\n",
    "print(\"Baseline r2_score: \", r2)"
   ]
  },
  {
   "cell_type": "code",
   "execution_count": 16,
   "id": "fleet-allowance",
   "metadata": {
    "cellView": "code",
    "colab": {
     "base_uri": "https://localhost:8080/"
    },
    "id": "4SeJOSZGAP7_",
    "outputId": "fc3e0bd1-864a-4952-af78-35a71291bc28"
   },
   "outputs": [
    {
     "name": "stdout",
     "output_type": "stream",
     "text": [
      "R2 score when training on all numeric data (no train/test split):  0.48483491613295226\n"
     ]
    }
   ],
   "source": [
    "# Linear Regression Model basic\n",
    "from sklearn.linear_model import LinearRegression\n",
    "\n",
    "X = df.drop([\"Count\"], axis=1)\n",
    "y = df[\"Count\"]\n",
    "\n",
    "LR = LinearRegression()\n",
    "\n",
    "reg = LR.fit(X,y)\n",
    "r2 = reg.score(X,y) # Pretty low r2 even when trained on entire \n",
    "print(\"R2 score when training on all numeric data (no train/test split): \", r2)"
   ]
  }
 ],
 "metadata": {
  "kernelspec": {
   "display_name": "ML",
   "language": "python",
   "name": "ml"
  },
  "language_info": {
   "codemirror_mode": {
    "name": "ipython",
    "version": 3
   },
   "file_extension": ".py",
   "mimetype": "text/x-python",
   "name": "python",
   "nbconvert_exporter": "python",
   "pygments_lexer": "ipython3",
   "version": "3.7.10"
  }
 },
 "nbformat": 4,
 "nbformat_minor": 5
}
