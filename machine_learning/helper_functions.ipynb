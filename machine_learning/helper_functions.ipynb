{
 "cells": [
  {
   "cell_type": "code",
   "execution_count": 145,
   "id": "frank-promise",
   "metadata": {},
   "outputs": [],
   "source": [
    "from collections import OrderedDict\n",
    "from joblib import dump, load\n",
    "\n",
    "def encode_user_values(params):\n",
    "    \"\"\"\n",
    "    Take in dictionary of values for the parameters and converts to format to be used by ML models\n",
    "    - Hour \n",
    "    - Temp\n",
    "    - Hum\n",
    "    - Wind\n",
    "    - Visb\n",
    "    - Rainfall \n",
    "    - Snow\n",
    "    - DWeek: Monday, Tuesday, Wednesday, Thursday, Friday, Saturday\n",
    "    - Holiday 0 or 1\n",
    "    - Fday: 0 or 1\n",
    "    - Season: Autumn, Spring, Summer, Winter\n",
    "    \"\"\"\n",
    "    # Initial checks\n",
    "    if params[\"Fday\"] not in [0,1]:\n",
    "        raise ValueError(\"Fday value must be 0 or 1\")\n",
    "    \n",
    "    if params[\"DWeek\"] not in [\"Monday\",\"Tuesday\", \"Wednesday\", \"Thursday\", \"Friday\", \"Saturday\"]:\n",
    "        raise ValueError(\"Invalid day of week value\")\n",
    "    \n",
    "    if params[\"Season\"] not in [\"Autumn\", \"Spring\", \"Summer\", \"Winter\"]:\n",
    "        raise ValueError(\"Season must be either Autumn, Spring, Summer, or Winter\")\n",
    "    \n",
    "    \"\"\"Order to follow internally\n",
    "    ['Hour', 'Temp', 'Hum', 'Wind', 'Visb', 'Rainfall', 'Snow', 'Weekend',\n",
    "       'Holiday', 'Fday', 'DWeek_Friday', 'DWeek_Monday', 'DWeek_Saturday',\n",
    "       'DWeek_Sunday', 'DWeek_Thursday', 'DWeek_Tuesday', 'DWeek_Wednesday',\n",
    "       'Seasons_Autumn', 'Seasons_Spring', 'Seasons_Summer', 'Seasons_Winter',\n",
    "       'Count']\"\"\"\n",
    "    \n",
    "    ret_dict = OrderedDict()\n",
    "    ret_dict[\"Hour\"] = params[\"Hour\"]\n",
    "    ret_dict[\"Temp\"] = params[\"Temp\"]\n",
    "    ret_dict[\"Hum\"] = params[\"Hum\"]\n",
    "    ret_dict[\"Wind\"] = params[\"Wind\"]\n",
    "    ret_dict[\"Visb\"] = params[\"Visb\"]\n",
    "    ret_dict[\"Rainfall\"] = params[\"Rainfall\"]\n",
    "    ret_dict[\"Snow\"] = params[\"Snow\"]\n",
    "    ret_dict[\"Weekend\"] = 1 * (params[\"DWeek\"] in [\"Saturday\", \"Sunday\"])\n",
    "    ret_dict[\"Holiday\"] = params[\"Holiday\"]\n",
    "    ret_dict[\"Fday\"] = params[\"Fday\"]\n",
    "    days = [\"Friday\",\"Monday\", \"Saturday\", \"Sunday\", \"Thursday\", \"Tuesday\",\"Wedesday\"]\n",
    "    \n",
    "    # Encode days\n",
    "    for day in days: \n",
    "        if params[\"DWeek\"] == day: \n",
    "            ret_dict[\"DWeek_\" + day] = 1\n",
    "        else:\n",
    "            ret_dict[\"DWeek_\" + day] = 0\n",
    "    \n",
    "    \n",
    "    seasons = [\"Autumn\", \"Spring\", \"Summer\", \"Winter\"]\n",
    "    for season in seasons: \n",
    "        if params[\"Season\"] == season:\n",
    "            ret_dict[\"Seasons_\" + season] = 1\n",
    "        else: \n",
    "            ret_dict[\"Seasons_\" + season] = 0\n",
    "            \n",
    "    return list(ret_dict.values())"
   ]
  },
  {
   "cell_type": "code",
   "execution_count": 146,
   "id": "certain-magic",
   "metadata": {},
   "outputs": [],
   "source": [
    "# CALL THIS FUNCTION WITH APPROPRIATE MODEL PATHS AND INPUT DATA TO GET PREDICTION\n",
    "# also requires the function above ( encode user values)\n",
    "# defaults to SVM \n",
    "def predict_bike_count(raw_input, MMS_PATH=\"./models/min_max_scaler.joblib\", MODEL_PATH=\"./models/svm.joblib\"):\n",
    "    \"\"\"\n",
    "    raw_input is a dictionary format with the following values\n",
    "    - Hour \n",
    "    - Temp\n",
    "    - Hum\n",
    "    - Wind\n",
    "    - Visb\n",
    "    - Rainfall \n",
    "    - Snow\n",
    "    - DWeek: Monday, Tuesday, Wednesday, Thursday, Friday, Saturday\n",
    "    - Holiday 0 or 1\n",
    "    - Fday: 0 or 1\n",
    "    - Season: Autumn, Spring, Summer, Winter\n",
    "    \n",
    "    MMS_PATH: is the relative path to the min max scaler file\n",
    "    MODEL_PATH: the relative path to the appropriate model file\n",
    "    \"\"\"\n",
    "    encoded_values = encode_user_values(raw_input)\n",
    "    scaler = load(MMS_PATH) \n",
    "    scaled_values = scaler.transform([encoded_values])\n",
    "    model = load(MODEL_PATH)\n",
    "    pred = model.predict(scaled_values)\n",
    "    ret_val = round(pred[0])\n",
    "    return ret_val"
   ]
  },
  {
   "cell_type": "code",
   "execution_count": 147,
   "id": "fixed-spouse",
   "metadata": {},
   "outputs": [
    {
     "name": "stderr",
     "output_type": "stream",
     "text": [
      "/Users/rekhathomas/opt/miniconda3/envs/ML/lib/python3.7/site-packages/sklearn/base.py:334: UserWarning: Trying to unpickle estimator MinMaxScaler from version 0.22.1 when using version 0.23.2. This might lead to breaking code or invalid results. Use at your own risk.\n",
      "  UserWarning)\n"
     ]
    },
    {
     "data": {
      "text/plain": [
       "124"
      ]
     },
     "execution_count": 147,
     "metadata": {},
     "output_type": "execute_result"
    }
   ],
   "source": [
    "test_input = {\n",
    "    \"Hour\": 0,\n",
    "    \"Temp\": -5.2,\n",
    "    \"Hum\": 37,\n",
    "    \"Wind\": 2.2,\n",
    "    \"Visb\": 2000,\n",
    "    \"Rainfall\": 0,\n",
    "    \"Snow\": 0,\n",
    "    \"DWeek\": \"Friday\",\n",
    "    \"Holiday\": 1,\n",
    "    \"Season\": \"Winter\",\n",
    "    \"Fday\": 1\n",
    "}\n",
    "prediction = predict_bike_count(test_input) # Predicts on svm model by default\n",
    "prediction"
   ]
  },
  {
   "cell_type": "code",
   "execution_count": 148,
   "id": "innovative-authorization",
   "metadata": {},
   "outputs": [
    {
     "name": "stderr",
     "output_type": "stream",
     "text": [
      "/Users/rekhathomas/opt/miniconda3/envs/ML/lib/python3.7/site-packages/sklearn/base.py:334: UserWarning: Trying to unpickle estimator MinMaxScaler from version 0.22.1 when using version 0.23.2. This might lead to breaking code or invalid results. Use at your own risk.\n",
      "  UserWarning)\n"
     ]
    },
    {
     "data": {
      "text/plain": [
       "-130"
      ]
     },
     "execution_count": 148,
     "metadata": {},
     "output_type": "execute_result"
    }
   ],
   "source": [
    "# using linear regression to predict ( has negative predictions sometimes unfortunately)\n",
    "prediction = predict_bike_count(test_input, MODEL_PATH=\"./models/linear_regression.joblib\")\n",
    "prediction"
   ]
  }
 ],
 "metadata": {
  "kernelspec": {
   "display_name": "ML",
   "language": "python",
   "name": "ml"
  },
  "language_info": {
   "codemirror_mode": {
    "name": "ipython",
    "version": 3
   },
   "file_extension": ".py",
   "mimetype": "text/x-python",
   "name": "python",
   "nbconvert_exporter": "python",
   "pygments_lexer": "ipython3",
   "version": "3.7.10"
  }
 },
 "nbformat": 4,
 "nbformat_minor": 5
}
