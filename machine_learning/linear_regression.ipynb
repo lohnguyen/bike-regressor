{
 "cells": [
  {
   "cell_type": "code",
   "execution_count": 7,
   "id": "specialized-turtle",
   "metadata": {},
   "outputs": [],
   "source": [
    "import pandas as pd\n",
    "\n",
    "# Load dataset\n",
    "df = pd.read_csv(\"./datasets/bike_data.csv\", index_col=0)"
   ]
  },
  {
   "cell_type": "markdown",
   "id": "after-handbook",
   "metadata": {},
   "source": [
    "## Train Test Split"
   ]
  },
  {
   "cell_type": "code",
   "execution_count": 2,
   "id": "handmade-moldova",
   "metadata": {},
   "outputs": [],
   "source": [
    "from sklearn.model_selection import train_test_split\n",
    "\n",
    "X = df.drop(\"Count\", axis=1).values\n",
    "y = df[\"Count\"]\n",
    "\n",
    "X_train, X_test, y_train, y_test = train_test_split(X, y, test_size=0.33, random_state=42)"
   ]
  },
  {
   "cell_type": "markdown",
   "id": "technological-anime",
   "metadata": {},
   "source": [
    "## Normalize Data"
   ]
  },
  {
   "cell_type": "code",
   "execution_count": 3,
   "id": "mechanical-martial",
   "metadata": {},
   "outputs": [],
   "source": [
    "from sklearn.preprocessing import MinMaxScaler\n",
    "scaler = MinMaxScaler()\n",
    "X_train = scaler.fit_transform(X_train)\n",
    "X_test = scaler.transform(X_test)"
   ]
  },
  {
   "cell_type": "code",
   "execution_count": 4,
   "id": "simplified-petersburg",
   "metadata": {
    "cellView": "code",
    "colab": {
     "base_uri": "https://localhost:8080/"
    },
    "id": "4SeJOSZGAP7_",
    "outputId": "fc3e0bd1-864a-4952-af78-35a71291bc28"
   },
   "outputs": [
    {
     "name": "stdout",
     "output_type": "stream",
     "text": [
      "R2 score for linreg:  0.4715197408031362\n"
     ]
    }
   ],
   "source": [
    "# Linear Regression Model basic\n",
    "from sklearn.linear_model import LinearRegression\n",
    "\n",
    "LR = LinearRegression()\n",
    "\n",
    "reg = LR.fit(X_train,y_train)\n",
    "r2 = reg.score(X_test,y_test) # Pretty low r2 even when trained on entire \n",
    "print(\"R2 score for linreg: \", r2)"
   ]
  },
  {
   "cell_type": "code",
   "execution_count": 6,
   "id": "negative-difficulty",
   "metadata": {
    "scrolled": true
   },
   "outputs": [
    {
     "name": "stdout",
     "output_type": "stream",
     "text": [
      "R2 score for linreg ridge:  0.4716371170657039\n"
     ]
    }
   ],
   "source": [
    "from sklearn.linear_model import RidgeCV\n",
    "\n",
    "lr_ridge = RidgeCV()\n",
    "lr_ridge.fit(X_train, y_train)\n",
    "r2 = lr_ridge.score(X_test, y_test)\n",
    "print(\"R2 score for linreg ridge: \", r2)"
   ]
  }
 ],
 "metadata": {
  "kernelspec": {
   "display_name": "ML",
   "language": "python",
   "name": "ml"
  },
  "language_info": {
   "codemirror_mode": {
    "name": "ipython",
    "version": 3
   },
   "file_extension": ".py",
   "mimetype": "text/x-python",
   "name": "python",
   "nbconvert_exporter": "python",
   "pygments_lexer": "ipython3",
   "version": "3.7.10"
  }
 },
 "nbformat": 4,
 "nbformat_minor": 5
}
