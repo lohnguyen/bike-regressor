{
 "cells": [
  {
   "cell_type": "code",
   "execution_count": 1,
   "metadata": {},
   "outputs": [],
   "source": [
    "import pandas as pd\n",
    "\n",
    "# Load dataset\n",
    "df = pd.read_csv(\"./datasets/bike_data.csv\", index_col=0)"
   ]
  },
  {
   "cell_type": "code",
   "execution_count": 2,
   "metadata": {},
   "outputs": [],
   "source": [
    "# Copy this to other notebooks to get the train and test data\n",
    "def load_train_test():\n",
    "    train_df = pd.read_csv(\"./datasets/bike_train.csv\", index_col=0)\n",
    "    test_df = pd.read_csv(\"./datasets/bike_test.csv\", index_col=0)\n",
    "    X_train = train_df.drop(\"Count\", axis=1).values\n",
    "    y_train = train_df[\"Count\"]\n",
    "    X_test = test_df.drop(\"Count\", axis=1).values\n",
    "    y_test = test_df[\"Count\"]\n",
    "    return (X_train, X_test, y_train, y_test)"
   ]
  },
  {
   "cell_type": "markdown",
   "metadata": {},
   "source": [
    "## Train Test Split"
   ]
  },
  {
   "cell_type": "code",
   "execution_count": 3,
   "metadata": {},
   "outputs": [],
   "source": [
    "X_train, X_test, y_train, y_test = load_train_test()"
   ]
  },
  {
   "cell_type": "markdown",
   "metadata": {},
   "source": [
    "## Random Forest Models"
   ]
  },
  {
   "cell_type": "markdown",
   "metadata": {},
   "source": [
    "### Random Forest Basic\n"
   ]
  },
  {
   "cell_type": "code",
   "execution_count": 4,
   "metadata": {
    "cellView": "code",
    "colab": {
     "base_uri": "https://localhost:8080/"
    },
    "id": "4SeJOSZGAP7_",
    "outputId": "fc3e0bd1-864a-4952-af78-35a71291bc28"
   },
   "outputs": [
    {
     "name": "stdout",
     "output_type": "stream",
     "text": [
      "R2 score for random forest:  0.9091754919448496\n"
     ]
    }
   ],
   "source": [
    "from sklearn.metrics import r2_score\n",
    "\n",
    "# Linear Regression Model basic\n",
    "from sklearn.ensemble import RandomForestRegressor\n",
    "\n",
    "LR = RandomForestRegressor(n_jobs=-1)\n",
    "\n",
    "reg = LR.fit(X_train,y_train)\n",
    "y_pred = LR.predict(X_test)\n",
    "print(\"R2 score for random forest: \", r2_score(y_test, y_pred))"
   ]
  },
  {
   "cell_type": "code",
   "execution_count": null,
   "metadata": {},
   "outputs": [],
   "source": [
    "import matplotlib.pyplot as plt\n",
    "%matplotlib inline\n",
    "N = 50\n",
    "\n",
    "plt.plot(list(y_test[:N]), label=\"y-test\")\n",
    "plt.plot(list(y_pred[:N]), label=\"y_pred\")\n",
    "plt.legend()\n",
    "plt.show()"
   ]
  },
  {
   "cell_type": "markdown",
   "metadata": {},
   "source": [
    "### Random Forest Variations\n"
   ]
  },
  {
   "cell_type": "code",
   "execution_count": 13,
   "metadata": {},
   "outputs": [
    {
     "name": "stdout",
     "output_type": "stream",
     "text": [
      "Fitting 5 folds for each of 30 candidates, totalling 150 fits\n",
      "[CV 1/5] END ..................ccp_alpha=0.0, max_features=1; total time=   0.6s\n",
      "[CV 2/5] END ..................ccp_alpha=0.0, max_features=1; total time=   0.5s\n",
      "[CV 3/5] END ..................ccp_alpha=0.0, max_features=1; total time=   0.6s\n",
      "[CV 4/5] END ..................ccp_alpha=0.0, max_features=1; total time=   0.7s\n",
      "[CV 5/5] END ..................ccp_alpha=0.0, max_features=1; total time=   0.7s\n",
      "[CV 1/5] END ..................ccp_alpha=0.0, max_features=5; total time=   1.1s\n",
      "[CV 2/5] END ..................ccp_alpha=0.0, max_features=5; total time=   1.0s\n",
      "[CV 3/5] END ..................ccp_alpha=0.0, max_features=5; total time=   1.0s\n",
      "[CV 4/5] END ..................ccp_alpha=0.0, max_features=5; total time=   1.0s\n",
      "[CV 5/5] END ..................ccp_alpha=0.0, max_features=5; total time=   1.0s\n",
      "[CV 1/5] END ..................ccp_alpha=0.0, max_features=9; total time=   1.5s\n",
      "[CV 2/5] END ..................ccp_alpha=0.0, max_features=9; total time=   1.5s\n",
      "[CV 3/5] END ..................ccp_alpha=0.0, max_features=9; total time=   1.3s\n",
      "[CV 4/5] END ..................ccp_alpha=0.0, max_features=9; total time=   1.3s\n",
      "[CV 5/5] END ..................ccp_alpha=0.0, max_features=9; total time=   1.2s\n",
      "[CV 1/5] END .................ccp_alpha=0.0, max_features=13; total time=   1.8s\n",
      "[CV 2/5] END .................ccp_alpha=0.0, max_features=13; total time=   2.1s\n",
      "[CV 3/5] END .................ccp_alpha=0.0, max_features=13; total time=   1.9s\n",
      "[CV 4/5] END .................ccp_alpha=0.0, max_features=13; total time=   1.9s\n",
      "[CV 5/5] END .................ccp_alpha=0.0, max_features=13; total time=   2.0s\n",
      "[CV 1/5] END .................ccp_alpha=0.0, max_features=17; total time=   2.5s\n",
      "[CV 2/5] END .................ccp_alpha=0.0, max_features=17; total time=   2.2s\n",
      "[CV 3/5] END .................ccp_alpha=0.0, max_features=17; total time=   2.3s\n",
      "[CV 4/5] END .................ccp_alpha=0.0, max_features=17; total time=   2.4s\n",
      "[CV 5/5] END .................ccp_alpha=0.0, max_features=17; total time=   2.1s\n",
      "[CV 1/5] END .................ccp_alpha=0.0, max_features=21; total time=   2.4s\n",
      "[CV 2/5] END .................ccp_alpha=0.0, max_features=21; total time=   2.4s\n",
      "[CV 3/5] END .................ccp_alpha=0.0, max_features=21; total time=   2.8s\n",
      "[CV 4/5] END .................ccp_alpha=0.0, max_features=21; total time=   2.6s\n",
      "[CV 5/5] END .................ccp_alpha=0.0, max_features=21; total time=   2.4s\n",
      "[CV 1/5] END .................ccp_alpha=0.01, max_features=1; total time=   0.9s\n",
      "[CV 2/5] END .................ccp_alpha=0.01, max_features=1; total time=   1.0s\n",
      "[CV 3/5] END .................ccp_alpha=0.01, max_features=1; total time=   1.1s\n",
      "[CV 4/5] END .................ccp_alpha=0.01, max_features=1; total time=   1.0s\n",
      "[CV 5/5] END .................ccp_alpha=0.01, max_features=1; total time=   1.1s\n",
      "[CV 1/5] END .................ccp_alpha=0.01, max_features=5; total time=   1.5s\n",
      "[CV 2/5] END .................ccp_alpha=0.01, max_features=5; total time=   1.2s\n",
      "[CV 3/5] END .................ccp_alpha=0.01, max_features=5; total time=   1.3s\n",
      "[CV 4/5] END .................ccp_alpha=0.01, max_features=5; total time=   1.4s\n",
      "[CV 5/5] END .................ccp_alpha=0.01, max_features=5; total time=   1.2s\n",
      "[CV 1/5] END .................ccp_alpha=0.01, max_features=9; total time=   1.8s\n",
      "[CV 2/5] END .................ccp_alpha=0.01, max_features=9; total time=   1.8s\n",
      "[CV 3/5] END .................ccp_alpha=0.01, max_features=9; total time=   1.9s\n",
      "[CV 4/5] END .................ccp_alpha=0.01, max_features=9; total time=   1.7s\n",
      "[CV 5/5] END .................ccp_alpha=0.01, max_features=9; total time=   1.9s\n",
      "[CV 1/5] END ................ccp_alpha=0.01, max_features=13; total time=   2.3s\n",
      "[CV 2/5] END ................ccp_alpha=0.01, max_features=13; total time=   2.3s\n",
      "[CV 3/5] END ................ccp_alpha=0.01, max_features=13; total time=   2.4s\n",
      "[CV 4/5] END ................ccp_alpha=0.01, max_features=13; total time=   2.4s\n",
      "[CV 5/5] END ................ccp_alpha=0.01, max_features=13; total time=   2.6s\n",
      "[CV 1/5] END ................ccp_alpha=0.01, max_features=17; total time=   3.3s\n",
      "[CV 2/5] END ................ccp_alpha=0.01, max_features=17; total time=   3.3s\n",
      "[CV 3/5] END ................ccp_alpha=0.01, max_features=17; total time=   3.1s\n",
      "[CV 4/5] END ................ccp_alpha=0.01, max_features=17; total time=   3.2s\n",
      "[CV 5/5] END ................ccp_alpha=0.01, max_features=17; total time=   3.3s\n",
      "[CV 1/5] END ................ccp_alpha=0.01, max_features=21; total time=   3.1s\n",
      "[CV 2/5] END ................ccp_alpha=0.01, max_features=21; total time=   3.5s\n",
      "[CV 3/5] END ................ccp_alpha=0.01, max_features=21; total time=   3.2s\n",
      "[CV 4/5] END ................ccp_alpha=0.01, max_features=21; total time=   3.1s\n",
      "[CV 5/5] END ................ccp_alpha=0.01, max_features=21; total time=   3.2s\n",
      "[CV 1/5] END .................ccp_alpha=0.02, max_features=1; total time=   0.9s\n",
      "[CV 2/5] END .................ccp_alpha=0.02, max_features=1; total time=   0.9s\n",
      "[CV 3/5] END .................ccp_alpha=0.02, max_features=1; total time=   1.0s\n",
      "[CV 4/5] END .................ccp_alpha=0.02, max_features=1; total time=   1.0s\n",
      "[CV 5/5] END .................ccp_alpha=0.02, max_features=1; total time=   1.1s\n",
      "[CV 1/5] END .................ccp_alpha=0.02, max_features=5; total time=   1.8s\n",
      "[CV 2/5] END .................ccp_alpha=0.02, max_features=5; total time=   1.7s\n",
      "[CV 3/5] END .................ccp_alpha=0.02, max_features=5; total time=   1.4s\n",
      "[CV 4/5] END .................ccp_alpha=0.02, max_features=5; total time=   1.6s\n",
      "[CV 5/5] END .................ccp_alpha=0.02, max_features=5; total time=   1.9s\n",
      "[CV 1/5] END .................ccp_alpha=0.02, max_features=9; total time=   2.4s\n",
      "[CV 2/5] END .................ccp_alpha=0.02, max_features=9; total time=   2.2s\n",
      "[CV 3/5] END .................ccp_alpha=0.02, max_features=9; total time=   2.2s\n",
      "[CV 4/5] END .................ccp_alpha=0.02, max_features=9; total time=   2.2s\n",
      "[CV 5/5] END .................ccp_alpha=0.02, max_features=9; total time=   2.1s\n",
      "[CV 1/5] END ................ccp_alpha=0.02, max_features=13; total time=   3.3s\n",
      "[CV 2/5] END ................ccp_alpha=0.02, max_features=13; total time=   2.9s\n",
      "[CV 3/5] END ................ccp_alpha=0.02, max_features=13; total time=   2.9s\n",
      "[CV 4/5] END ................ccp_alpha=0.02, max_features=13; total time=   2.7s\n",
      "[CV 5/5] END ................ccp_alpha=0.02, max_features=13; total time=   3.0s\n",
      "[CV 1/5] END ................ccp_alpha=0.02, max_features=17; total time=   4.0s\n",
      "[CV 2/5] END ................ccp_alpha=0.02, max_features=17; total time=   3.4s\n",
      "[CV 3/5] END ................ccp_alpha=0.02, max_features=17; total time=   3.2s\n",
      "[CV 4/5] END ................ccp_alpha=0.02, max_features=17; total time=   3.4s\n",
      "[CV 5/5] END ................ccp_alpha=0.02, max_features=17; total time=   3.0s\n",
      "[CV 1/5] END ................ccp_alpha=0.02, max_features=21; total time=   3.9s\n",
      "[CV 2/5] END ................ccp_alpha=0.02, max_features=21; total time=   4.0s\n",
      "[CV 3/5] END ................ccp_alpha=0.02, max_features=21; total time=   3.9s\n",
      "[CV 4/5] END ................ccp_alpha=0.02, max_features=21; total time=   3.8s\n",
      "[CV 5/5] END ................ccp_alpha=0.02, max_features=21; total time=   3.9s\n",
      "[CV 1/5] END .................ccp_alpha=0.03, max_features=1; total time=   1.1s\n",
      "[CV 2/5] END .................ccp_alpha=0.03, max_features=1; total time=   1.2s\n",
      "[CV 3/5] END .................ccp_alpha=0.03, max_features=1; total time=   1.2s\n",
      "[CV 4/5] END .................ccp_alpha=0.03, max_features=1; total time=   1.1s\n",
      "[CV 5/5] END .................ccp_alpha=0.03, max_features=1; total time=   1.1s\n",
      "[CV 1/5] END .................ccp_alpha=0.03, max_features=5; total time=   1.4s\n",
      "[CV 2/5] END .................ccp_alpha=0.03, max_features=5; total time=   1.5s\n",
      "[CV 3/5] END .................ccp_alpha=0.03, max_features=5; total time=   1.4s\n",
      "[CV 4/5] END .................ccp_alpha=0.03, max_features=5; total time=   1.5s\n",
      "[CV 5/5] END .................ccp_alpha=0.03, max_features=5; total time=   1.6s\n",
      "[CV 1/5] END .................ccp_alpha=0.03, max_features=9; total time=   2.2s\n"
     ]
    },
    {
     "name": "stdout",
     "output_type": "stream",
     "text": [
      "[CV 2/5] END .................ccp_alpha=0.03, max_features=9; total time=   2.1s\n",
      "[CV 3/5] END .................ccp_alpha=0.03, max_features=9; total time=   2.1s\n",
      "[CV 4/5] END .................ccp_alpha=0.03, max_features=9; total time=   2.1s\n",
      "[CV 5/5] END .................ccp_alpha=0.03, max_features=9; total time=   2.2s\n",
      "[CV 1/5] END ................ccp_alpha=0.03, max_features=13; total time=   2.6s\n",
      "[CV 2/5] END ................ccp_alpha=0.03, max_features=13; total time=   2.5s\n",
      "[CV 3/5] END ................ccp_alpha=0.03, max_features=13; total time=   2.6s\n",
      "[CV 4/5] END ................ccp_alpha=0.03, max_features=13; total time=   2.6s\n",
      "[CV 5/5] END ................ccp_alpha=0.03, max_features=13; total time=   2.7s\n",
      "[CV 1/5] END ................ccp_alpha=0.03, max_features=17; total time=   3.7s\n",
      "[CV 2/5] END ................ccp_alpha=0.03, max_features=17; total time=   3.4s\n",
      "[CV 3/5] END ................ccp_alpha=0.03, max_features=17; total time=   3.2s\n",
      "[CV 4/5] END ................ccp_alpha=0.03, max_features=17; total time=   3.2s\n",
      "[CV 5/5] END ................ccp_alpha=0.03, max_features=17; total time=   3.3s\n",
      "[CV 1/5] END ................ccp_alpha=0.03, max_features=21; total time=   3.5s\n",
      "[CV 2/5] END ................ccp_alpha=0.03, max_features=21; total time=   3.5s\n",
      "[CV 3/5] END ................ccp_alpha=0.03, max_features=21; total time=   3.7s\n",
      "[CV 4/5] END ................ccp_alpha=0.03, max_features=21; total time=   3.8s\n",
      "[CV 5/5] END ................ccp_alpha=0.03, max_features=21; total time=   3.7s\n",
      "[CV 1/5] END .................ccp_alpha=0.04, max_features=1; total time=   1.1s\n",
      "[CV 2/5] END .................ccp_alpha=0.04, max_features=1; total time=   1.1s\n",
      "[CV 3/5] END .................ccp_alpha=0.04, max_features=1; total time=   1.1s\n",
      "[CV 4/5] END .................ccp_alpha=0.04, max_features=1; total time=   1.1s\n",
      "[CV 5/5] END .................ccp_alpha=0.04, max_features=1; total time=   1.1s\n",
      "[CV 1/5] END .................ccp_alpha=0.04, max_features=5; total time=   1.5s\n",
      "[CV 2/5] END .................ccp_alpha=0.04, max_features=5; total time=   1.5s\n",
      "[CV 3/5] END .................ccp_alpha=0.04, max_features=5; total time=   1.5s\n",
      "[CV 4/5] END .................ccp_alpha=0.04, max_features=5; total time=   1.7s\n",
      "[CV 5/5] END .................ccp_alpha=0.04, max_features=5; total time=   1.6s\n",
      "[CV 1/5] END .................ccp_alpha=0.04, max_features=9; total time=   2.3s\n",
      "[CV 2/5] END .................ccp_alpha=0.04, max_features=9; total time=   2.6s\n",
      "[CV 3/5] END .................ccp_alpha=0.04, max_features=9; total time=   2.6s\n",
      "[CV 4/5] END .................ccp_alpha=0.04, max_features=9; total time=   2.6s\n",
      "[CV 5/5] END .................ccp_alpha=0.04, max_features=9; total time=   2.6s\n",
      "[CV 1/5] END ................ccp_alpha=0.04, max_features=13; total time=   3.3s\n",
      "[CV 2/5] END ................ccp_alpha=0.04, max_features=13; total time=   3.2s\n",
      "[CV 3/5] END ................ccp_alpha=0.04, max_features=13; total time=   2.7s\n",
      "[CV 4/5] END ................ccp_alpha=0.04, max_features=13; total time=   3.0s\n",
      "[CV 5/5] END ................ccp_alpha=0.04, max_features=13; total time=   3.3s\n",
      "[CV 1/5] END ................ccp_alpha=0.04, max_features=17; total time=   3.2s\n",
      "[CV 2/5] END ................ccp_alpha=0.04, max_features=17; total time=   3.2s\n",
      "[CV 3/5] END ................ccp_alpha=0.04, max_features=17; total time=   3.3s\n",
      "[CV 4/5] END ................ccp_alpha=0.04, max_features=17; total time=   3.1s\n",
      "[CV 5/5] END ................ccp_alpha=0.04, max_features=17; total time=   3.1s\n",
      "[CV 1/5] END ................ccp_alpha=0.04, max_features=21; total time=   3.9s\n",
      "[CV 2/5] END ................ccp_alpha=0.04, max_features=21; total time=   3.6s\n",
      "[CV 3/5] END ................ccp_alpha=0.04, max_features=21; total time=   3.5s\n",
      "[CV 4/5] END ................ccp_alpha=0.04, max_features=21; total time=   4.2s\n",
      "[CV 5/5] END ................ccp_alpha=0.04, max_features=21; total time=   4.2s\n",
      "R2 score for random forest (with grid search):  0.9118723152297112\n"
     ]
    }
   ],
   "source": [
    "import numpy as np\n",
    "from sklearn.model_selection import GridSearchCV\n",
    "\n",
    "param_grid = {  \n",
    "            'max_features': range(1,22, 4),\n",
    "            'ccp_alpha': np.linspace(0, 0.04, 5)\n",
    "} \n",
    "grid = GridSearchCV(RandomForestRegressor(), param_grid, verbose=3)\n",
    "grid.fit(X_train, y_train)\n",
    "\n",
    "y_pred = grid.predict(X_test)\n",
    "print(\"R2 score for random forest (with grid search): \", r2_score(y_test, y_pred))"
   ]
  },
  {
   "cell_type": "code",
   "execution_count": 5,
   "metadata": {
    "scrolled": true
   },
   "outputs": [
    {
     "data": {
      "image/png": "[encoded data removed]",
      "text/plain": [
       "<Figure size 432x288 with 1 Axes>"
      ]
     },
     "metadata": {
      "needs_background": "light"
     },
     "output_type": "display_data"
    }
   ],
   "source": [
    "import matplotlib.pyplot as plt\n",
    "%matplotlib inline\n",
    "N = 50\n",
    "\n",
    "plt.plot(list(y_test[:N]), label=\"y-test\")\n",
    "plt.plot(list(y_pred[:N]), label=\"y_pred\")\n",
    "plt.legend()\n",
    "plt.show()"
   ]
  }
 ],
 "metadata": {
  "kernelspec": {
   "display_name": "Python 3",
   "language": "python",
   "name": "python3"
  },
  "language_info": {
   "codemirror_mode": {
    "name": "ipython",
    "version": 3
   },
   "file_extension": ".py",
   "mimetype": "text/x-python",
   "name": "python",
   "nbconvert_exporter": "python",
   "pygments_lexer": "ipython3",
   "version": "3.8.8"
  }
 },
 "nbformat": 4,
 "nbformat_minor": 5
}
