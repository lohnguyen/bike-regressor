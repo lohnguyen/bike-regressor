{
 "cells": [
  {
   "cell_type": "code",
   "execution_count": 1,
   "id": "cathedral-forward",
   "metadata": {},
   "outputs": [],
   "source": [
    "import pandas as pd\n",
    "import numpy as np\n",
    "\n",
    "# Load dataset\n",
    "df = pd.read_csv(\"./datasets/bike_data_normalized.csv\", index_col=0)"
   ]
  },
  {
   "cell_type": "code",
   "execution_count": 2,
   "id": "comic-bicycle",
   "metadata": {},
   "outputs": [],
   "source": [
    "# Possible removing of correlated one hot encoding variables\n",
    "# df.drop(\"Seasons_Autumn\",axis=1, inplace=True) # can be determined from other season columns\n",
    "# df.drop(\"DWeek_Saturday\",axis=1, inplace=True) # You can determine saturday from sunday and weekend\n",
    "# df.drop(\"DWeek_Friday\",axis=1, inplace=True) # Drop one weekday"
   ]
  },
  {
   "cell_type": "code",
   "execution_count": 3,
   "id": "loaded-label",
   "metadata": {},
   "outputs": [],
   "source": [
    "# Copy this to other notebooks to get the train and test data\n",
    "def load_train_test():\n",
    "    train_df = pd.read_csv(\"./datasets/bike_train.csv\", index_col=0)\n",
    "    test_df = pd.read_csv(\"./datasets/bike_test.csv\", index_col=0)\n",
    "    X_train = train_df.drop(\"Count\", axis=1).values\n",
    "    y_train = train_df[\"Count\"]\n",
    "    X_test = test_df.drop(\"Count\", axis=1).values\n",
    "    y_test = test_df[\"Count\"]\n",
    "    return (X_train, X_test, y_train, y_test)"
   ]
  },
  {
   "cell_type": "markdown",
   "id": "literary-sequence",
   "metadata": {},
   "source": [
    "## Load Data"
   ]
  },
  {
   "cell_type": "code",
   "execution_count": 4,
   "id": "chief-shirt",
   "metadata": {},
   "outputs": [],
   "source": [
    "X_train, X_test, y_train, y_test = load_train_test()"
   ]
  },
  {
   "cell_type": "markdown",
   "id": "geological-hollow",
   "metadata": {},
   "source": [
    "## SVM"
   ]
  },
  {
   "cell_type": "code",
   "execution_count": 5,
   "id": "apparent-neighborhood",
   "metadata": {},
   "outputs": [
    {
     "data": {
      "text/plain": [
       "0.8161119303300665"
      ]
     },
     "execution_count": 5,
     "metadata": {},
     "output_type": "execute_result"
    }
   ],
   "source": [
    "# With some parameters that worked well from the grid search\n",
    "from sklearn.svm import SVR\n",
    "regr = SVR(C=1000, gamma=10)\n",
    "regr.fit(X_train, y_train)\n",
    "regr.score(X_test, y_test)"
   ]
  },
  {
   "cell_type": "code",
   "execution_count": 6,
   "id": "damaged-amateur",
   "metadata": {},
   "outputs": [
    {
     "data": {
      "text/plain": [
       "0.9001386528682288"
      ]
     },
     "execution_count": 6,
     "metadata": {},
     "output_type": "execute_result"
    }
   ],
   "source": [
    "# Test r-squared value\n",
    "regr.score(X_train, y_train)"
   ]
  },
  {
   "cell_type": "code",
   "execution_count": 7,
   "id": "athletic-romantic",
   "metadata": {},
   "outputs": [
    {
     "data": {
      "text/plain": [
       "SVR(C=1000, gamma=10)"
      ]
     },
     "execution_count": 7,
     "metadata": {},
     "output_type": "execute_result"
    }
   ],
   "source": [
    "# Train on entire dataset and persist\n",
    "X = df.drop(\"Count\", axis=1).values\n",
    "y = df[\"Count\"]\n",
    "\n",
    "svm = SVR(C=1000, gamma=10)\n",
    "svm.fit(X,y)"
   ]
  },
  {
   "cell_type": "code",
   "execution_count": 8,
   "id": "laughing-tracker",
   "metadata": {},
   "outputs": [
    {
     "data": {
      "text/plain": [
       "0.9007983425367263"
      ]
     },
     "execution_count": 8,
     "metadata": {},
     "output_type": "execute_result"
    }
   ],
   "source": [
    "svm.score(X,y)"
   ]
  },
  {
   "cell_type": "markdown",
   "id": "silent-georgia",
   "metadata": {},
   "source": [
    "## Persist the model"
   ]
  },
  {
   "cell_type": "code",
   "execution_count": 9,
   "id": "strange-antibody",
   "metadata": {},
   "outputs": [
    {
     "data": {
      "text/plain": [
       "['./models/svm.joblib']"
      ]
     },
     "execution_count": 9,
     "metadata": {},
     "output_type": "execute_result"
    }
   ],
   "source": [
    "from joblib import dump, load\n",
    "dump(svm, './models/svm.joblib') "
   ]
  },
  {
   "cell_type": "code",
   "execution_count": null,
   "id": "southeast-oliver",
   "metadata": {},
   "outputs": [
    {
     "name": "stdout",
     "output_type": "stream",
     "text": [
      "Fitting 5 folds for each of 9 candidates, totalling 45 fits\n",
      "[CV] C=0.01, gamma=0.1, kernel=rbf ...................................\n"
     ]
    },
    {
     "name": "stderr",
     "output_type": "stream",
     "text": [
      "[Parallel(n_jobs=1)]: Using backend SequentialBackend with 1 concurrent workers.\n"
     ]
    },
    {
     "name": "stdout",
     "output_type": "stream",
     "text": [
      "[CV] ...... C=0.01, gamma=0.1, kernel=rbf, score=-0.102, total=   1.6s\n",
      "[CV] C=0.01, gamma=0.1, kernel=rbf ...................................\n"
     ]
    },
    {
     "name": "stderr",
     "output_type": "stream",
     "text": [
      "[Parallel(n_jobs=1)]: Done   1 out of   1 | elapsed:    1.6s remaining:    0.0s\n"
     ]
    },
    {
     "name": "stdout",
     "output_type": "stream",
     "text": [
      "[CV] ...... C=0.01, gamma=0.1, kernel=rbf, score=-0.140, total=   1.5s\n",
      "[CV] C=0.01, gamma=0.1, kernel=rbf ...................................\n"
     ]
    },
    {
     "name": "stderr",
     "output_type": "stream",
     "text": [
      "[Parallel(n_jobs=1)]: Done   2 out of   2 | elapsed:    3.1s remaining:    0.0s\n"
     ]
    },
    {
     "name": "stdout",
     "output_type": "stream",
     "text": [
      "[CV] ...... C=0.01, gamma=0.1, kernel=rbf, score=-0.092, total=   1.6s\n",
      "[CV] C=0.01, gamma=0.1, kernel=rbf ...................................\n",
      "[CV] ...... C=0.01, gamma=0.1, kernel=rbf, score=-0.066, total=   1.6s\n",
      "[CV] C=0.01, gamma=0.1, kernel=rbf ...................................\n",
      "[CV] ...... C=0.01, gamma=0.1, kernel=rbf, score=-0.072, total=   1.5s\n",
      "[CV] C=0.01, gamma=10.0, kernel=rbf ..................................\n",
      "[CV] ..... C=0.01, gamma=10.0, kernel=rbf, score=-0.104, total=   1.4s\n",
      "[CV] C=0.01, gamma=10.0, kernel=rbf ..................................\n",
      "[CV] ..... C=0.01, gamma=10.0, kernel=rbf, score=-0.141, total=   1.6s\n",
      "[CV] C=0.01, gamma=10.0, kernel=rbf ..................................\n",
      "[CV] ..... C=0.01, gamma=10.0, kernel=rbf, score=-0.094, total=   1.6s\n",
      "[CV] C=0.01, gamma=10.0, kernel=rbf ..................................\n",
      "[CV] ..... C=0.01, gamma=10.0, kernel=rbf, score=-0.067, total=   1.6s\n",
      "[CV] C=0.01, gamma=10.0, kernel=rbf ..................................\n",
      "[CV] ..... C=0.01, gamma=10.0, kernel=rbf, score=-0.074, total=   1.8s\n",
      "[CV] C=0.01, gamma=1000.0, kernel=rbf ................................\n",
      "[CV] ... C=0.01, gamma=1000.0, kernel=rbf, score=-0.104, total=   1.1s\n",
      "[CV] C=0.01, gamma=1000.0, kernel=rbf ................................\n",
      "[CV] ... C=0.01, gamma=1000.0, kernel=rbf, score=-0.142, total=   1.0s\n",
      "[CV] C=0.01, gamma=1000.0, kernel=rbf ................................\n",
      "[CV] ... C=0.01, gamma=1000.0, kernel=rbf, score=-0.094, total=   1.0s\n",
      "[CV] C=0.01, gamma=1000.0, kernel=rbf ................................\n",
      "[CV] ... C=0.01, gamma=1000.0, kernel=rbf, score=-0.068, total=   1.0s\n",
      "[CV] C=0.01, gamma=1000.0, kernel=rbf ................................\n",
      "[CV] ... C=0.01, gamma=1000.0, kernel=rbf, score=-0.074, total=   1.0s\n",
      "[CV] C=10000.0, gamma=0.1, kernel=rbf ................................\n",
      "[CV] .... C=10000.0, gamma=0.1, kernel=rbf, score=0.652, total=   2.2s\n",
      "[CV] C=10000.0, gamma=0.1, kernel=rbf ................................\n",
      "[CV] .... C=10000.0, gamma=0.1, kernel=rbf, score=0.713, total=   2.6s\n",
      "[CV] C=10000.0, gamma=0.1, kernel=rbf ................................\n",
      "[CV] .... C=10000.0, gamma=0.1, kernel=rbf, score=0.691, total=   2.5s\n",
      "[CV] C=10000.0, gamma=0.1, kernel=rbf ................................\n",
      "[CV] .... C=10000.0, gamma=0.1, kernel=rbf, score=0.691, total=   2.6s\n",
      "[CV] C=10000.0, gamma=0.1, kernel=rbf ................................\n",
      "[CV] .... C=10000.0, gamma=0.1, kernel=rbf, score=0.709, total=   2.3s\n",
      "[CV] C=10000.0, gamma=10.0, kernel=rbf ...............................\n",
      "[CV] ... C=10000.0, gamma=10.0, kernel=rbf, score=0.773, total=  28.6s\n",
      "[CV] C=10000.0, gamma=10.0, kernel=rbf ...............................\n",
      "[CV] ... C=10000.0, gamma=10.0, kernel=rbf, score=0.821, total=  30.7s\n",
      "[CV] C=10000.0, gamma=10.0, kernel=rbf ...............................\n",
      "[CV] ... C=10000.0, gamma=10.0, kernel=rbf, score=0.797, total=  29.9s\n",
      "[CV] C=10000.0, gamma=10.0, kernel=rbf ...............................\n",
      "[CV] ... C=10000.0, gamma=10.0, kernel=rbf, score=0.800, total=  31.8s\n",
      "[CV] C=10000.0, gamma=10.0, kernel=rbf ...............................\n",
      "[CV] ... C=10000.0, gamma=10.0, kernel=rbf, score=0.811, total=  35.7s\n",
      "[CV] C=10000.0, gamma=1000.0, kernel=rbf .............................\n",
      "[CV] . C=10000.0, gamma=1000.0, kernel=rbf, score=0.030, total=   2.6s\n",
      "[CV] C=10000.0, gamma=1000.0, kernel=rbf .............................\n",
      "[CV] . C=10000.0, gamma=1000.0, kernel=rbf, score=0.022, total=   2.4s\n",
      "[CV] C=10000.0, gamma=1000.0, kernel=rbf .............................\n",
      "[CV] . C=10000.0, gamma=1000.0, kernel=rbf, score=0.027, total=   2.5s\n",
      "[CV] C=10000.0, gamma=1000.0, kernel=rbf .............................\n",
      "[CV] . C=10000.0, gamma=1000.0, kernel=rbf, score=0.020, total=   3.0s\n",
      "[CV] C=10000.0, gamma=1000.0, kernel=rbf .............................\n",
      "[CV] . C=10000.0, gamma=1000.0, kernel=rbf, score=0.022, total=   3.4s\n",
      "[CV] C=10000000000.0, gamma=0.1, kernel=rbf ..........................\n"
     ]
    }
   ],
   "source": [
    "# https://www.geeksforgeeks.org/svm-hyperparameter-tuning-using-gridsearchcv-ml/\n",
    "# Reference on range to search: https://scikit-learn.org/stable/auto_examples/svm/plot_rbf_parameters.html\n",
    "from sklearn.model_selection import GridSearchCV\n",
    "param_grid = { \n",
    "            'kernel': ['rbf'], \n",
    "            'C': np.logspace(-2, 10, 3),\n",
    "            'gamma': np.logspace(-1, 3, 3)\n",
    "} \n",
    "grid = GridSearchCV(SVR(), param_grid,verbose = 3)\n",
    "grid.fit(X_train, y_train)"
   ]
  }
 ],
 "metadata": {
  "kernelspec": {
   "display_name": "ML",
   "language": "python",
   "name": "ml"
  },
  "language_info": {
   "codemirror_mode": {
    "name": "ipython",
    "version": 3
   },
   "file_extension": ".py",
   "mimetype": "text/x-python",
   "name": "python",
   "nbconvert_exporter": "python",
   "pygments_lexer": "ipython3",
   "version": "3.7.10"
  }
 },
 "nbformat": 4,
 "nbformat_minor": 5
}
