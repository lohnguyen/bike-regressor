{
 "cells": [
  {
   "cell_type": "code",
   "execution_count": 1,
   "id": "variable-friday",
   "metadata": {},
   "outputs": [],
   "source": [
    "import pandas as pd\n",
    "\n",
    "# Load dataset\n",
    "df = pd.read_csv(\"./datasets/bike_data.csv\", index_col=0)"
   ]
  },
  {
   "cell_type": "code",
   "execution_count": 2,
   "id": "corporate-bulgaria",
   "metadata": {},
   "outputs": [],
   "source": [
    "# Possible removing of correlated one hot encoding variables\n",
    "# df.drop(\"Seasons_Autumn\",axis=1, inplace=True) # can be determined from other season columns\n",
    "# df.drop(\"DWeek_Saturday\",axis=1, inplace=True) # You can determine saturday from sunday and weekend\n",
    "# df.drop(\"DWeek_Friday\",axis=1, inplace=True) # Drop one weekday"
   ]
  },
  {
   "cell_type": "code",
   "execution_count": 3,
   "id": "informative-motion",
   "metadata": {},
   "outputs": [],
   "source": [
    "# Copy this to other notebooks to get the train and test data\n",
    "def load_train_test():\n",
    "    train_df = pd.read_csv(\"./datasets/bike_train.csv\", index_col=0)\n",
    "    test_df = pd.read_csv(\"./datasets/bike_test.csv\", index_col=0)\n",
    "    X_train = train_df.drop(\"Count\", axis=1).values\n",
    "    y_train = train_df[\"Count\"]\n",
    "    X_test = test_df.drop(\"Count\", axis=1).values\n",
    "    y_test = test_df[\"Count\"]\n",
    "    return (X_train, X_test, y_train, y_test)"
   ]
  },
  {
   "cell_type": "markdown",
   "id": "concerned-brazil",
   "metadata": {},
   "source": [
    "## Load Data"
   ]
  },
  {
   "cell_type": "code",
   "execution_count": 4,
   "id": "ecological-shelter",
   "metadata": {},
   "outputs": [],
   "source": [
    "X_train, X_test, y_train, y_test = load_train_test()"
   ]
  },
  {
   "cell_type": "markdown",
   "id": "enhanced-chocolate",
   "metadata": {},
   "source": [
    "## SVM"
   ]
  },
  {
   "cell_type": "code",
   "execution_count": 6,
   "id": "productive-punishment",
   "metadata": {},
   "outputs": [
    {
     "data": {
      "text/plain": [
       "0.7996442039849097"
      ]
     },
     "execution_count": 6,
     "metadata": {},
     "output_type": "execute_result"
    }
   ],
   "source": [
    "# With some parameters that worked well from the grid search\n",
    "from sklearn.svm import SVR\n",
    "regr = SVR(C=1000, gamma=10)\n",
    "regr.fit(X_train, y_train)\n",
    "regr.score(X_test, y_test)"
   ]
  },
  {
   "cell_type": "code",
   "execution_count": 8,
   "id": "arbitrary-healthcare",
   "metadata": {},
   "outputs": [
    {
     "data": {
      "text/plain": [
       "0.9032278135334143"
      ]
     },
     "execution_count": 8,
     "metadata": {},
     "output_type": "execute_result"
    }
   ],
   "source": [
    "# Test r-squared value\n",
    "regr.score(X_train, y_train)"
   ]
  },
  {
   "cell_type": "code",
   "execution_count": null,
   "id": "charitable-deficit",
   "metadata": {},
   "outputs": [],
   "source": [
    "# https://www.geeksforgeeks.org/svm-hyperparameter-tuning-using-gridsearchcv-ml/\n",
    "# Reference on range to search: https://scikit-learn.org/stable/auto_examples/svm/plot_rbf_parameters.html\n",
    "from sklearn.model_selection import GridSearchCV\n",
    "param_grid = { \n",
    "            'kernel': ['rbf'], \n",
    "            'C': np.logspace(-2, 10, 13),\n",
    "            'gamma': np.logspace(-9, 3, 13)\n",
    "} \n",
    "grid = GridSearchCV(SVR(), param_grid,verbose = 3)\n",
    "grid.fit(X_train, y_train)"
   ]
  },
  {
   "cell_type": "code",
   "execution_count": null,
   "id": "voluntary-chest",
   "metadata": {},
   "outputs": [],
   "source": [
    "grid.best_params_"
   ]
  }
 ],
 "metadata": {
  "kernelspec": {
   "display_name": "ML",
   "language": "python",
   "name": "ml"
  },
  "language_info": {
   "codemirror_mode": {
    "name": "ipython",
    "version": 3
   },
   "file_extension": ".py",
   "mimetype": "text/x-python",
   "name": "python",
   "nbconvert_exporter": "python",
   "pygments_lexer": "ipython3",
   "version": "3.7.10"
  }
 },
 "nbformat": 4,
 "nbformat_minor": 5
}
