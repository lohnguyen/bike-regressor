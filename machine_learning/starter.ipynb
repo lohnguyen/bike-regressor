{
 "cells": [
  {
   "cell_type": "code",
   "execution_count": 2,
   "id": "difficult-aside",
   "metadata": {},
   "outputs": [],
   "source": [
    "# Starter code\n",
    "import pandas as pd\n",
    "import numpy as np\n",
    "\n",
    "# Copy this to other notebooks to get the train and test data\n",
    "# Data is already normalized\n",
    "def load_train_test():\n",
    "    train_df = pd.read_csv(\"./datasets/bike_train.csv\", index_col=0)\n",
    "    test_df = pd.read_csv(\"./datasets/bike_test.csv\", index_col=0)\n",
    "    X_train = train_df.drop(\"Count\", axis=1).values\n",
    "    y_train = train_df[\"Count\"]\n",
    "    X_test = test_df.drop(\"Count\", axis=1).values\n",
    "    y_test = test_df[\"Count\"]\n",
    "    return (X_train, X_test, y_train, y_test)\n",
    "X_train, X_test, y_train, y_test = load_train_test()"
   ]
  },
  {
   "cell_type": "code",
   "execution_count": 3,
   "id": "complimentary-found",
   "metadata": {},
   "outputs": [
    {
     "data": {
      "text/plain": [
       "array([1.e-02, 1.e+04, 1.e+10])"
      ]
     },
     "execution_count": 3,
     "metadata": {},
     "output_type": "execute_result"
    }
   ],
   "source": [
    "np.logspace(-2, 10, 3)"
   ]
  },
  {
   "cell_type": "code",
   "execution_count": 4,
   "id": "different-expert",
   "metadata": {},
   "outputs": [
    {
     "data": {
      "text/plain": [
       "0.8219322163900445"
      ]
     },
     "execution_count": 4,
     "metadata": {},
     "output_type": "execute_result"
    }
   ],
   "source": [
    "from sklearn.svm import SVR\n",
    "regr = SVR(C=10000, gamma=10)\n",
    "regr.fit(X_train, y_train)\n",
    "regr.score(X_test, y_test)"
   ]
  },
  {
   "cell_type": "code",
   "execution_count": 6,
   "id": "packed-minutes",
   "metadata": {},
   "outputs": [
    {
     "data": {
      "text/plain": [
       "['./models/svm_model.joblib']"
      ]
     },
     "execution_count": 6,
     "metadata": {},
     "output_type": "execute_result"
    }
   ],
   "source": [
    "# Save to disk\n",
    "from joblib import dump, load\n",
    "dump(regr, './models/svm_model.joblib')"
   ]
  },
  {
   "cell_type": "code",
   "execution_count": 7,
   "id": "twelve-kinase",
   "metadata": {},
   "outputs": [],
   "source": [
    "clf = load('./models/svm_model.joblib')\n"
   ]
  },
  {
   "cell_type": "code",
   "execution_count": 9,
   "id": "extra-leather",
   "metadata": {},
   "outputs": [
    {
     "data": {
      "text/plain": [
       "2628"
      ]
     },
     "execution_count": 9,
     "metadata": {},
     "output_type": "execute_result"
    }
   ],
   "source": [
    "len(clf.predict(X_test))"
   ]
  }
 ],
 "metadata": {
  "kernelspec": {
   "display_name": "ML",
   "language": "python",
   "name": "ml"
  },
  "language_info": {
   "codemirror_mode": {
    "name": "ipython",
    "version": 3
   },
   "file_extension": ".py",
   "mimetype": "text/x-python",
   "name": "python",
   "nbconvert_exporter": "python",
   "pygments_lexer": "ipython3",
   "version": "3.7.10"
  }
 },
 "nbformat": 4,
 "nbformat_minor": 5
}
