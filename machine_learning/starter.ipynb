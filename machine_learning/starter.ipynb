{
 "cells": [
  {
   "cell_type": "code",
   "execution_count": 3,
   "id": "numerical-string",
   "metadata": {},
   "outputs": [],
   "source": [
    "# Starter code\n",
    "import pandas as pd\n",
    "import numpy as np\n",
    "\n",
    "# Copy this to other notebooks to get the train and test data\n",
    "# Data is already normalized\n",
    "def load_train_test():\n",
    "    train_df = pd.read_csv(\"./datasets/bike_train.csv\", index_col=0)\n",
    "    test_df = pd.read_csv(\"./datasets/bike_test.csv\", index_col=0)\n",
    "    X_train = train_df.drop(\"Count\", axis=1).values\n",
    "    y_train = train_df[\"Count\"]\n",
    "    X_test = test_df.drop(\"Count\", axis=1).values\n",
    "    y_test = test_df[\"Count\"]\n",
    "    return (X_train, X_test, y_train, y_test)\n",
    "X_train, X_test, y_train, y_test = load_train_test()"
   ]
  }
 ],
 "metadata": {
  "kernelspec": {
   "display_name": "ML",
   "language": "python",
   "name": "ml"
  },
  "language_info": {
   "codemirror_mode": {
    "name": "ipython",
    "version": 3
   },
   "file_extension": ".py",
   "mimetype": "text/x-python",
   "name": "python",
   "nbconvert_exporter": "python",
   "pygments_lexer": "ipython3",
   "version": "3.7.10"
  }
 },
 "nbformat": 4,
 "nbformat_minor": 5
}
